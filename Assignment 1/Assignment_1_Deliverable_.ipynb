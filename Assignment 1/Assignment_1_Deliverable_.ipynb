{
  "nbformat": 4,
  "nbformat_minor": 0,
  "metadata": {
    "colab": {
      "name": "Assignment-1 Deliverable .ipynb",
      "provenance": [],
      "collapsed_sections": []
    },
    "kernelspec": {
      "name": "python3",
      "display_name": "Python 3"
    }
  },
  "cells": [
    {
      "cell_type": "code",
      "metadata": {
        "id": "6eHTMCBCj3GA",
        "colab_type": "code",
        "colab": {
          "base_uri": "https://localhost:8080/",
          "height": 34
        },
        "outputId": "f54e49ff-81d5-4891-ef7c-a1218c26d9a1"
      },
      "source": [
        "print('My name is Rajiv Nagesh')"
      ],
      "execution_count": 1,
      "outputs": [
        {
          "output_type": "stream",
          "text": [
            "My name is Rajiv Nagesh\n"
          ],
          "name": "stdout"
        }
      ]
    },
    {
      "cell_type": "code",
      "metadata": {
        "id": "LBLPxmVXkWW0",
        "colab_type": "code",
        "colab": {
          "base_uri": "https://localhost:8080/",
          "height": 67
        },
        "outputId": "6ba11fe4-8902-4665-ae7b-493c320f3bfe"
      },
      "source": [
        "x = input('Enter your name')\n",
        "y=input('Enter your birthday')\n",
        "print(x,\"is born on\",y)"
      ],
      "execution_count": 2,
      "outputs": [
        {
          "output_type": "stream",
          "text": [
            "Enter your nameRajiv Nagesh\n",
            "Enter your birthday18/04/97\n",
            "Rajiv Nagesh is born on 18/04/97\n"
          ],
          "name": "stdout"
        }
      ]
    },
    {
      "cell_type": "code",
      "metadata": {
        "id": "JnsNxwSGk6Dq",
        "colab_type": "code",
        "colab": {
          "base_uri": "https://localhost:8080/",
          "height": 34
        },
        "outputId": "3aa2cd43-176e-43a6-fa80-67f96f73e611"
      },
      "source": [
        "team_list = ['csk', 'mi', 'rcb', 'kxp', 'srh', 'rr', 'dd', 'kkr']\n",
        "updated_teamlist = [team_list[0],team_list[7],team_list[4],team_list[5]]\n",
        "print(updated_teamlist)"
      ],
      "execution_count": 7,
      "outputs": [
        {
          "output_type": "stream",
          "text": [
            "['csk', 'kkr', 'srh', 'rr']\n"
          ],
          "name": "stdout"
        }
      ]
    },
    {
      "cell_type": "code",
      "metadata": {
        "id": "9cmtWrTImU9l",
        "colab_type": "code",
        "colab": {
          "base_uri": "https://localhost:8080/",
          "height": 67
        },
        "outputId": "0059736f-4041-4615-99b3-d23bcff63efd"
      },
      "source": [
        "x = input('Enter your name :')\n",
        "print(x)\n",
        "print(len(x))"
      ],
      "execution_count": 10,
      "outputs": [
        {
          "output_type": "stream",
          "text": [
            "Enter your name :Rajiv\n",
            "Rajiv\n",
            "5\n"
          ],
          "name": "stdout"
        }
      ]
    },
    {
      "cell_type": "code",
      "metadata": {
        "id": "1JdPyvn1mwtz",
        "colab_type": "code",
        "colab": {
          "base_uri": "https://localhost:8080/",
          "height": 370
        },
        "outputId": "367c4e68-62c1-475a-9791-a51706c357f5"
      },
      "source": [
        "n=int(input(\"Enter the number :\"))\n",
        "for i in range(1,21):\n",
        "  print(n,\"*\",i,\"=\",n*i)"
      ],
      "execution_count": 11,
      "outputs": [
        {
          "output_type": "stream",
          "text": [
            "Enter the number :4\n",
            "4 * 1 = 4\n",
            "4 * 2 = 8\n",
            "4 * 3 = 12\n",
            "4 * 4 = 16\n",
            "4 * 5 = 20\n",
            "4 * 6 = 24\n",
            "4 * 7 = 28\n",
            "4 * 8 = 32\n",
            "4 * 9 = 36\n",
            "4 * 10 = 40\n",
            "4 * 11 = 44\n",
            "4 * 12 = 48\n",
            "4 * 13 = 52\n",
            "4 * 14 = 56\n",
            "4 * 15 = 60\n",
            "4 * 16 = 64\n",
            "4 * 17 = 68\n",
            "4 * 18 = 72\n",
            "4 * 19 = 76\n",
            "4 * 20 = 80\n"
          ],
          "name": "stdout"
        }
      ]
    },
    {
      "cell_type": "code",
      "metadata": {
        "id": "chNHwoNbpoCx",
        "colab_type": "code",
        "colab": {
          "base_uri": "https://localhost:8080/",
          "height": 50
        },
        "outputId": "69a39f4d-6442-445c-c851-f85e991201b4"
      },
      "source": [
        "num = int(input(\"Enter a number: \"))\n",
        "if (num % 2) == 0:\n",
        "  print(\"{0} is Even number\". format(num))\n",
        "else:\n",
        "  print(\"{0} is Odd number\". format(num))"
      ],
      "execution_count": 16,
      "outputs": [
        {
          "output_type": "stream",
          "text": [
            "Enter a number: 4\n",
            "4 is Even number\n"
          ],
          "name": "stdout"
        }
      ]
    },
    {
      "cell_type": "code",
      "metadata": {
        "id": "g65034ymqHQ6",
        "colab_type": "code",
        "colab": {
          "base_uri": "https://localhost:8080/",
          "height": 67
        },
        "outputId": "2244f50b-475a-485c-ce28-c593d1637d04"
      },
      "source": [
        "a=[34,87,892,920,974,893]\n",
        "maximum=max(a)\n",
        "print(maximum)\n",
        "minimum=min(a)\n",
        "print(minimum)\n",
        "sum=sum(a)\n",
        "length=len(a)\n",
        "average=sum/length\n",
        "print(average)"
      ],
      "execution_count": 18,
      "outputs": [
        {
          "output_type": "stream",
          "text": [
            "974\n",
            "34\n",
            "633.3333333333334\n"
          ],
          "name": "stdout"
        }
      ]
    },
    {
      "cell_type": "code",
      "metadata": {
        "id": "XqlgiY78rATJ",
        "colab_type": "code",
        "colab": {
          "base_uri": "https://localhost:8080/",
          "height": 34
        },
        "outputId": "d8b5092e-f06a-4b57-e95c-b022d26cf0a1"
      },
      "source": [
        "a=[9,56,826,784]\n",
        "multiplied_list = [element * 5 for element in a]\n",
        "print(multiplied_list)"
      ],
      "execution_count": 19,
      "outputs": [
        {
          "output_type": "stream",
          "text": [
            "[45, 280, 4130, 3920]\n"
          ],
          "name": "stdout"
        }
      ]
    },
    {
      "cell_type": "code",
      "metadata": {
        "id": "4uD9kKgRz2Ma",
        "colab_type": "code",
        "colab": {
          "base_uri": "https://localhost:8080/",
          "height": 101
        },
        "outputId": "3b75eeef-3c7e-4180-c3f4-f02ea2b1b99b"
      },
      "source": [
        "student={}\n",
        "\n",
        "for i in range (2):\n",
        "  roll_number = input(\"Enter the roll number : \")\n",
        "  student_name = input(\"Enter the student name : \")\n",
        "  student[roll_number] = student_name\n",
        "print(student)\n",
        "\n",
        "\n",
        "\n"
      ],
      "execution_count": 33,
      "outputs": [
        {
          "output_type": "stream",
          "text": [
            "Enter the roll number : 1\n",
            "Enter the student name : Rajiv\n",
            "Enter the roll number : 2\n",
            "Enter the student name : Raj\n",
            "{'1': 'Rajiv', '2': 'Raj'}\n"
          ],
          "name": "stdout"
        }
      ]
    },
    {
      "cell_type": "code",
      "metadata": {
        "id": "_5xg64z25doP",
        "colab_type": "code",
        "colab": {}
      },
      "source": [
        ""
      ],
      "execution_count": null,
      "outputs": []
    },
    {
      "cell_type": "code",
      "metadata": {
        "id": "tvXFaQ8U5nDl",
        "colab_type": "code",
        "colab": {
          "base_uri": "https://localhost:8080/",
          "height": 50
        },
        "outputId": "e6dc8ec1-1aa4-4556-a173-6a111155e8e0"
      },
      "source": [
        "def get_dictval(k): \n",
        "  return student.get(k)\n",
        "\n",
        "\n",
        "x=input(\"Enter the roll number : \")\n",
        "print(get_dictval(x))"
      ],
      "execution_count": 40,
      "outputs": [
        {
          "output_type": "stream",
          "text": [
            "Enter the roll number : 1\n",
            "Rajiv\n"
          ],
          "name": "stdout"
        }
      ]
    }
  ]
}